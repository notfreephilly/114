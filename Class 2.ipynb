{
 "cells": [
  {
   "cell_type": "code",
   "execution_count": 3,
   "id": "8e5ec9d8-1a48-4d45-afff-2f8fc41bb585",
   "metadata": {},
   "outputs": [],
   "source": [
    "# simplified implementation of Stack (using built-ins)\n",
    "\n",
    "class Stack:\n",
    "    def __init__(self):\n",
    "        self.items = []\n",
    "\n",
    "    def push(self, value):\n",
    "        self.items.append(value)\n",
    "\n",
    "    def pop(self):\n",
    "        return self.items.pop()\n",
    "\n",
    "    # nice to have methods\n",
    "    def size(self):\n",
    "        return len(self.items)\n",
    "\n",
    "    def peek(self):\n",
    "        return self.items[len(self.items)-1]\n",
    "\n",
    "    def is_empty(self):\n",
    "        return self.items == []"
   ]
  },
  {
   "cell_type": "code",
   "execution_count": 4,
   "id": "ba1884a2-ceab-49aa-b394-1c52b5e07e40",
   "metadata": {},
   "outputs": [
    {
     "data": {
      "text/plain": [
       "'pilihP'"
      ]
     },
     "execution_count": 4,
     "metadata": {},
     "output_type": "execute_result"
    }
   ],
   "source": [
    "def invert_str(somestring):\n",
    "    stack = Stack()\n",
    "    for char in somestring:\n",
    "        stack.push(char)\n",
    "    out = \"\"\n",
    "    while not stack.is_empty():\n",
    "        out += stack.pop()\n",
    "    return out\n",
    "\n",
    "invert_str(\"Philip\")"
   ]
  },
  {
   "cell_type": "code",
   "execution_count": 7,
   "id": "eb189677-7599-48ee-a68a-339a8037f32e",
   "metadata": {},
   "outputs": [
    {
     "name": "stdout",
     "output_type": "stream",
     "text": [
      "4404091200\n",
      "4404091168\n"
     ]
    }
   ],
   "source": [
    "# In python, primary data types are:\n",
    "# int, bool, float\n",
    "\n",
    "x = 5\n",
    "y = x\n",
    "x = x + 1\n",
    "\n",
    "print(id(x))\n",
    "print(id(y))"
   ]
  },
  {
   "cell_type": "code",
   "execution_count": 6,
   "id": "611ca17d-03c7-4727-b617-dc98a050fa3f",
   "metadata": {},
   "outputs": [
    {
     "name": "stdout",
     "output_type": "stream",
     "text": [
      "[1, 2, 3, 4]\n"
     ]
    }
   ],
   "source": [
    "# other data types and structures passed by reference\n",
    "\n",
    "x = [1, 2, 3]\n",
    "y = x\n",
    "y.append(4)\n",
    "\n",
    "print(x)"
   ]
  },
  {
   "cell_type": "code",
   "execution_count": null,
   "id": "e93186fb-c1cf-4882-9594-b8d02edf5704",
   "metadata": {},
   "outputs": [],
   "source": [
    "# Challenge: implement push and pop in stack2\n",
    "# what values can be passed into the stack?\n",
    "\n",
    "#create a new node with the received parameter as its data\n",
    "# update the new node's below to point to the current top node\n",
    "# update the \"top\" reference to point to our newest node in the stack\n",
    "\n",
    "\n",
    "class Stack2:\n",
    "    class __Node:\n",
    "        def __init__(self, data):\n",
    "            self.data = data\n",
    "            self.below = None\n",
    "\n",
    "    def __init__(self):\n",
    "        self.top = None\n",
    "        self.size = 0\n",
    "\n",
    "    def push(self, value):\n",
    "        # create a new node\n",
    "        new_node = self.__Node(value)\n",
    "        if not self.top: # this is the same as \"if self.top == None\"\n",
    "            self.top = new_node\n",
    "            self.size += 1\n",
    "        else:\n",
    "            new_node.below == self.top\n",
    "            self.top = new_node\n",
    "            self.size += 1\n",
    "    \n",
    "        # # update new node below\n",
    "        # self.below = new_node\n",
    "        # # update top node to point to newest node in stack\n",
    "        # self.top = \n",
    "\n",
    "        # self.items.append(new_node)\n",
    "        # self.top = new_node\n",
    "        \n",
    "\n",
    "    def pop(self):\n",
    "        if self.top:\n",
    "            datum = self.top.data\n",
    "            self.top = self.top.below\n",
    "            self.size -= 1\n",
    "            return datum\n",
    "        raise IndexError(\"Stack is empty\")\n",
    "        # reference the previous/current node\n",
    "        # remove value stored in nodee\n",
    "        # ensure previous value updates in current node?\n",
    "                \n",
    "\n",
    "\n",
    "\n",
    "    \n",
    "# nice to have methods\n",
    "    def size(self):\n",
    "        return self.size\n",
    "\n",
    "    def peek(self):\n",
    "        if self.top:\n",
    "            return self.top.data\n",
    "        raise IndexError(\"Stack is empty\")\n",
    "\n",
    "    def is_empty(self):\n",
    "        return self.top == None"
   ]
  }
 ],
 "metadata": {
  "kernelspec": {
   "display_name": "Python 3 (ipykernel)",
   "language": "python",
   "name": "python3"
  },
  "language_info": {
   "codemirror_mode": {
    "name": "ipython",
    "version": 3
   },
   "file_extension": ".py",
   "mimetype": "text/x-python",
   "name": "python",
   "nbconvert_exporter": "python",
   "pygments_lexer": "ipython3",
   "version": "3.12.2"
  }
 },
 "nbformat": 4,
 "nbformat_minor": 5
}
