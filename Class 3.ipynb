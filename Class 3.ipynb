{
 "cells": [
  {
   "cell_type": "code",
   "execution_count": 2,
   "id": "7de7802f-c6e2-44b1-bc97-6c060d0bde3d",
   "metadata": {},
   "outputs": [],
   "source": [
    "# simplified implementation of Queue (using built-ins)\n",
    "\n",
    "class Queue:\n",
    "    def __init__(self):\n",
    "        self.items = []\n",
    "\n",
    "    def enqueue(self, value):\n",
    "        self.items.insert(0, value)\n",
    "\n",
    "    def dequeue(self):\n",
    "        return self.items.pop()\n",
    "\n",
    "    # nice to have methods\n",
    "    def size(self):\n",
    "        return len(self.items)\n",
    "\n",
    "    def peek(self):\n",
    "        return self.items[len(self.items)-1]\n",
    "\n",
    "    def is_empty(self):\n",
    "        return self.items == []"
   ]
  },
  {
   "cell_type": "markdown",
   "id": "e95208c9-08e8-434a-ba27-95290e8d782a",
   "metadata": {},
   "source": [
    "# Problem 1\n",
    "\n",
    "## Create  a \"from scratch\" implementation of Queue (Queue2)\n",
    "\n",
    "### Acceptance Criteria\n",
    "1. Built-ins are not allowed (no lists, or built-in methods)\n",
    "2. Your endqueue method must have a worst case time complexity of O(1) (constant)\n",
    "3. Your dequeue method must have a worst case time complexity of O(1) (constant)\n",
    "\n",
    "### Bonus\n",
    "1. Implement the size method\n",
    "2. Implement peek\n",
    "3. Implement is_empty\n",
    "\n",
    "\n",
    "### Note\n",
    "If you aren't sure where to start, test the queue class in the  cell above to know how it works"
   ]
  },
  {
   "cell_type": "code",
   "execution_count": 3,
   "id": "59ade8ab-9c96-4373-97c1-a7d27e23787a",
   "metadata": {},
   "outputs": [
    {
     "ename": "SyntaxError",
     "evalue": "incomplete input (834781512.py, line 38)",
     "output_type": "error",
     "traceback": [
      "\u001b[0;36m  Cell \u001b[0;32mIn[3], line 38\u001b[0;36m\u001b[0m\n\u001b[0;31m    def __init__(self, value):\u001b[0m\n\u001b[0m                              ^\u001b[0m\n\u001b[0;31mSyntaxError\u001b[0m\u001b[0;31m:\u001b[0m incomplete input\n"
     ]
    }
   ],
   "source": [
    "# questions\n",
    "'''\n",
    "how does the queue start? empty\n",
    "at what point will the queue end?\n",
    "will the queue end?\n",
    "how many items can be inserted at enqueue at a time? Is there a limit to how many may be inserted?\n",
    "Is there a limit to how many are removed from the dequeue at a time?\n",
    "Is there a limit to the size of the queue as a whole?\n",
    "\n",
    "at what point do we remove items from the queue?\n",
    "how do we determine when they need to be removed from the queue?\n",
    "Where does the removed item from the queue go?\n",
    "\n",
    "'''\n",
    "\n",
    "\n",
    "\n",
    "# pseudocode\n",
    "'''\n",
    "\n",
    "queue starts empty or 0\n",
    "for items in queue, increment by 1\n",
    "remove item that is next up from queue\n",
    "shift items in the queue by one\n",
    "traverse items to the enqueue\n",
    "insert next item into queue\n",
    "traverse back to dequeue\n",
    "repeat lines 23-27\n",
    "'''\n",
    "\n",
    "\n",
    "class StackII:\n",
    "    class __Node:\n",
    "        def __init__(self, data):\n",
    "            self.data = data\n",
    "\n",
    "\n",
    "    def __init__(self, value):\n"
   ]
  },
  {
   "cell_type": "code",
   "execution_count": 4,
   "id": "36b65bb6-e187-4285-b190-1546237af2bb",
   "metadata": {},
   "outputs": [],
   "source": [
    "class SinglyLinkedList:\n",
    "    class __Node:\n",
    "        def __init__(self, data):\n",
    "            self.data = data\n",
    "            self.next = None\n",
    "\n",
    "    def __init__(self):\n",
    "        self.head = None\n",
    "        # Challenge: see if you can have and maintain a tail ref and how that impacts performance\n",
    "\n",
    "    def append(self, value):\n",
    "        new_node = self.__Node(value)\n",
    "        if not self.head:\n",
    "            self.head = new_node\n",
    "        else:\n",
    "            current = self.head\n",
    "            while current.next:\n",
    "                current = current.next\n",
    "            current.next = new_node\n",
    "\n",
    "    def insert(self, index, value):\n",
    "        # This method has to insert a new node (with value) BEFORE the index, not after!\n",
    "        pass\n",
    "\n",
    "    def __str__(self):\n",
    "        # this dunder method must return a string at all times\n",
    "        out = \"[\"\n",
    "        current = self.head\n",
    "        if current:\n",
    "            out += \"%s\" % current.data\n",
    "            current = current.next\n",
    "            while current:\n",
    "                out += \", %s\" % current.data\n",
    "                current = current.next\n",
    "            out += \"]\"\n",
    "            return out  "
   ]
  },
  {
   "cell_type": "code",
   "execution_count": 5,
   "id": "36b3c58d-2f62-4abd-bf1f-de03fc0af55a",
   "metadata": {},
   "outputs": [
    {
     "ename": "TypeError",
     "evalue": "__str__ returned non-string (type NoneType)",
     "output_type": "error",
     "traceback": [
      "\u001b[0;31m---------------------------------------------------------------------------\u001b[0m",
      "\u001b[0;31mTypeError\u001b[0m                                 Traceback (most recent call last)",
      "Cell \u001b[0;32mIn[5], line 4\u001b[0m\n\u001b[1;32m      1\u001b[0m sll \u001b[38;5;241m=\u001b[39m SinglyLinkedList()\n\u001b[1;32m      3\u001b[0m \u001b[38;5;66;03m# when the list is empty:\u001b[39;00m\n\u001b[0;32m----> 4\u001b[0m \u001b[38;5;28;43mprint\u001b[39;49m\u001b[43m(\u001b[49m\u001b[43msll\u001b[49m\u001b[43m)\u001b[49m\n\u001b[1;32m      6\u001b[0m \u001b[38;5;66;03m# when the list has 1 node:\u001b[39;00m\n\u001b[1;32m      7\u001b[0m sll\u001b[38;5;241m.\u001b[39mappend(\u001b[38;5;241m1\u001b[39m)\n",
      "\u001b[0;31mTypeError\u001b[0m: __str__ returned non-string (type NoneType)"
     ]
    }
   ],
   "source": [
    "sll = SinglyLinkedList()\n",
    "\n",
    "# when the list is empty:\n",
    "print(sll)\n",
    "\n",
    "# when the list has 1 node:\n",
    "sll.append(1)\n",
    "print(sll)\n",
    "\n",
    "# when the list has more than 1 element:\n",
    "sll.append(2)\n",
    "print(sll)\n"
   ]
  },
  {
   "cell_type": "code",
   "execution_count": null,
   "id": "76f2554d-313f-48c3-850b-4ac4a234cb2f",
   "metadata": {},
   "outputs": [],
   "source": []
  }
 ],
 "metadata": {
  "kernelspec": {
   "display_name": "Python 3 (ipykernel)",
   "language": "python",
   "name": "python3"
  },
  "language_info": {
   "codemirror_mode": {
    "name": "ipython",
    "version": 3
   },
   "file_extension": ".py",
   "mimetype": "text/x-python",
   "name": "python",
   "nbconvert_exporter": "python",
   "pygments_lexer": "ipython3",
   "version": "3.12.2"
  }
 },
 "nbformat": 4,
 "nbformat_minor": 5
}
