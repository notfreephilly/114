{
 "cells": [
  {
   "cell_type": "code",
   "execution_count": 1,
   "id": "c8ffc389-efa3-4d9d-b5af-5ef360a3c5f0",
   "metadata": {},
   "outputs": [
    {
     "name": "stdout",
     "output_type": "stream",
     "text": [
      "h\n",
      "e\n",
      "l\n",
      "l\n",
      "o\n",
      " \n",
      "w\n",
      "o\n",
      "r\n",
      "l\n",
      "d\n"
     ]
    }
   ],
   "source": [
    "for char in \"hello world\":\n",
    "    print(char)\n",
    "\n",
    "#press shift + enter when finished typing"
   ]
  },
  {
   "cell_type": "markdown",
   "id": "5d01f030-0161-40af-8f98-30cdd7c7638b",
   "metadata": {},
   "source": [
    "# Problem 1\n",
    "## Anagram check\n",
    "\n",
    "Given two strings as inputs to yhour function, determine if these are anagrams of each other. Return \"True\" if they are, \"False\" otherwise.\n",
    "\n",
    "### Criteria\n",
    "Two strings are anagrams if all the criteria  below are met:\n",
    "1. They must be of equal length\n",
    "2. They must use the same letters, the same amount of times.\n",
    "\n",
    "```\n",
    "Examples:\n",
    "anagram_check(\"heart\", \"earth\") should return True\n",
    "anagram_check(\"scar\", \"cars\") should return True\n",
    "anagram_check(\"star\", \"rats\") should return True\n",
    "anagram_check(\"aaab\", \"aabb\") should return False\n",
    "```"
   ]
  },
  {
   "cell_type": "code",
   "execution_count": 9,
   "id": "84d46b2b-4c6b-4967-b35e-7919b86ed1b5",
   "metadata": {},
   "outputs": [
    {
     "name": "stdout",
     "output_type": "stream",
     "text": [
      "True\n"
     ]
    }
   ],
   "source": [
    "# create a function that compares two strings and checks if the anagrams match\n",
    "# convert str to lowercase\n",
    "# account for spaces, if any\n",
    "# if str length are equal, return true\n",
    "# if str contains the same letters and has the same amount, return true\n",
    "# if str length and str characters do not matchh, return false\n",
    "\n",
    "# questions:\n",
    "# is there a limit on the amount of characters in each string?\n",
    "# does case-sensitivity matter or should I assume lower-case?\n",
    "# \n",
    "\n",
    "def anagram_check(word_a, word_b):\n",
    "    if len(word_a) == len(word_b):\n",
    "        return True\n",
    "    # elif word_a == word_b:\n",
    "    #     return False\n",
    "    else:\n",
    "        return False\n",
    "\n",
    "\n",
    "\n",
    "\n",
    "print(anagram_check(\"aaab\", \"aabb\"))"
   ]
  },
  {
   "cell_type": "code",
   "execution_count": null,
   "id": "fcfb1dd1-e967-46d9-97f7-10c5c1040e3c",
   "metadata": {},
   "outputs": [],
   "source": []
  }
 ],
 "metadata": {
  "kernelspec": {
   "display_name": "Python 3 (ipykernel)",
   "language": "python",
   "name": "python3"
  },
  "language_info": {
   "codemirror_mode": {
    "name": "ipython",
    "version": 3
   },
   "file_extension": ".py",
   "mimetype": "text/x-python",
   "name": "python",
   "nbconvert_exporter": "python",
   "pygments_lexer": "ipython3",
   "version": "3.12.2"
  }
 },
 "nbformat": 4,
 "nbformat_minor": 5
}
